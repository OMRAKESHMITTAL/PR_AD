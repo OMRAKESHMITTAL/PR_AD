{
  "nbformat": 4,
  "nbformat_minor": 0,
  "metadata": {
    "colab": {
      "provenance": [],
      "authorship_tag": "ABX9TyPOlsUnA3LBaq3wj5+mKbWC",
      "include_colab_link": true
    },
    "kernelspec": {
      "name": "python3",
      "display_name": "Python 3"
    },
    "language_info": {
      "name": "python"
    }
  },
  "cells": [
    {
      "cell_type": "markdown",
      "metadata": {
        "id": "view-in-github",
        "colab_type": "text"
      },
      "source": [
        "<a href=\"https://colab.research.google.com/github/OMRAKESHMITTAL/PR_AD/blob/main/PR_AD_EXP1.ipynb\" target=\"_parent\"><img src=\"https://colab.research.google.com/assets/colab-badge.svg\" alt=\"Open In Colab\"/></a>"
      ]
    },
    {
      "cell_type": "code",
      "execution_count": 2,
      "metadata": {
        "colab": {
          "base_uri": "https://localhost:8080/"
        },
        "id": "JYFh1hLo5kTh",
        "outputId": "80a8cf4c-985e-4b60-b357-1e688fe58c14"
      },
      "outputs": [
        {
          "output_type": "execute_result",
          "data": {
            "text/plain": [
              "(20,)"
            ]
          },
          "metadata": {},
          "execution_count": 2
        }
      ],
      "source": [
        "import pandas as pd\n",
        "import numpy as np\n",
        "from sklearn import datasets\n",
        "iris_X, iris_y = datasets.load_iris(as_frame=True, return_X_y=True)\n",
        "iris_y.unique()\n",
        "iris_X.head()\n",
        "iris_y.unique()\n",
        "iris_X.describe()\n",
        "iris_X['sepal length (cm)'] += 1\n",
        "iris_X.columns\n",
        "copy_iris = iris_X.copy()\n",
        "copy_iris.columns = ['Sepal_length', 'Sepal_width', 'Petal_Length', 'Petal_width']\n",
        "copy_iris.head()\n",
        "iris_y.astype('int8')\n",
        "iris_y.dtype\n",
        "data = copy_iris.drop(['Sepal_length'], axis=1)\n",
        "data.dropna()\n",
        "a = np.arange(1, 21)\n",
        "a\n",
        "b = np.random.rand(20,20)\n",
        "a.shape\n",
        "b.shape\n",
        "c = np.random.randn(2, 15)\n",
        "c.shape\n",
        "c.transpose().shape\n",
        "np.matmul(a, b).shape\n",
        "(a @ b).shape\n"
      ]
    }
  ]
}